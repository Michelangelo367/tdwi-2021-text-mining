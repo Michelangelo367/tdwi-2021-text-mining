{
 "cells": [
  {
   "cell_type": "markdown",
   "id": "under-right",
   "metadata": {},
   "source": [
    "# Text Mining mit Python und PowerBI\n",
    "\n",
    "&copy; Jens Albrecht, Roland Zimmermann\n",
    "\n",
    "<hr/>"
   ]
  },
  {
   "cell_type": "markdown",
   "id": "distinguished-score",
   "metadata": {},
   "source": [
    "Das ist ein Notebook für den Technik-Check."
   ]
  },
  {
   "cell_type": "code",
   "execution_count": null,
   "id": "injured-collapse",
   "metadata": {
    "ExecuteTime": {
     "end_time": "2021-05-14T12:45:49.738534Z",
     "start_time": "2021-05-14T12:45:49.735759Z"
    }
   },
   "outputs": [],
   "source": [
    "import spacy\n",
    "from spacy import displacy\n",
    "\n",
    "nlp = spacy.load('de_core_news_sm')"
   ]
  },
  {
   "cell_type": "code",
   "execution_count": null,
   "id": "relevant-bangladesh",
   "metadata": {
    "ExecuteTime": {
     "end_time": "2021-05-14T12:45:00.167837Z",
     "start_time": "2021-05-14T12:45:00.165538Z"
    }
   },
   "outputs": [],
   "source": [
    "text = \"\"\"\n",
    "Der Workshop von Jens Albrecht und Roland Zimmermann \n",
    "soll Datenanalysten den Einstieg in das Text Mining erleichtern.\n",
    "\"\"\".strip()\n",
    "\n",
    "doc = nlp(text)"
   ]
  },
  {
   "cell_type": "code",
   "execution_count": null,
   "id": "deadly-partnership",
   "metadata": {
    "ExecuteTime": {
     "end_time": "2021-05-14T12:46:01.478395Z",
     "start_time": "2021-05-14T12:46:01.469251Z"
    }
   },
   "outputs": [],
   "source": [
    "displacy.render(doc, style='ent')"
   ]
  },
  {
   "cell_type": "code",
   "execution_count": null,
   "id": "bibliographic-potential",
   "metadata": {
    "ExecuteTime": {
     "end_time": "2021-05-14T12:46:25.192536Z",
     "start_time": "2021-05-14T12:46:25.177518Z"
    },
    "scrolled": true
   },
   "outputs": [],
   "source": [
    "displacy.render(doc, style='dep')"
   ]
  },
  {
   "cell_type": "markdown",
   "id": "pressing-bargain",
   "metadata": {},
   "source": [
    "Keine Fehler? Bestens!\n",
    "\n",
    "Ansonsten bitte am besten einen [Issue aufmachen](https://github.com/jsalbr/tdwi-2021-text-mining/issues)."
   ]
  },
  {
   "cell_type": "code",
   "execution_count": null,
   "id": "south-armstrong",
   "metadata": {},
   "outputs": [],
   "source": []
  }
 ],
 "metadata": {
  "kernelspec": {
   "display_name": "Python 3",
   "language": "python",
   "name": "python3"
  },
  "language_info": {
   "codemirror_mode": {
    "name": "ipython",
    "version": 3
   },
   "file_extension": ".py",
   "mimetype": "text/x-python",
   "name": "python",
   "nbconvert_exporter": "python",
   "pygments_lexer": "ipython3",
   "version": "3.8.8"
  },
  "toc": {
   "base_numbering": 1,
   "nav_menu": {},
   "number_sections": true,
   "sideBar": true,
   "skip_h1_title": false,
   "title_cell": "Table of Contents",
   "title_sidebar": "Contents",
   "toc_cell": false,
   "toc_position": {},
   "toc_section_display": true,
   "toc_window_display": false
  },
  "varInspector": {
   "cols": {
    "lenName": 16,
    "lenType": 16,
    "lenVar": 40
   },
   "kernels_config": {
    "python": {
     "delete_cmd_postfix": "",
     "delete_cmd_prefix": "del ",
     "library": "var_list.py",
     "varRefreshCmd": "print(var_dic_list())"
    },
    "r": {
     "delete_cmd_postfix": ") ",
     "delete_cmd_prefix": "rm(",
     "library": "var_list.r",
     "varRefreshCmd": "cat(var_dic_list()) "
    }
   },
   "types_to_exclude": [
    "module",
    "function",
    "builtin_function_or_method",
    "instance",
    "_Feature"
   ],
   "window_display": false
  }
 },
 "nbformat": 4,
 "nbformat_minor": 5
}
