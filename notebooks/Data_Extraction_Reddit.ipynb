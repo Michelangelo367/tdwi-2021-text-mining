{
 "cells": [
  {
   "cell_type": "markdown",
   "metadata": {},
   "source": [
    "# Extracting Data from Reddit with Pushshift<div class='tocSkip'/>\n",
    "\n",
    "&copy; Jens Albrecht\n",
    "\n",
    "This notebook can be freely copied and modified.\n",
    "Attribution, however, is highly appreciated.\n",
    "\n",
    "<hr>\n",
    "\n",
    "This notebook illustrates how to download data from Reddit using the Pushshift API."
   ]
  },
  {
   "cell_type": "markdown",
   "metadata": {},
   "source": [
    "## Setup<div class='tocSkip'/>\n",
    "\n",
    "Set directory locations. If working on Google Colab: copy files and install required libraries."
   ]
  },
  {
   "cell_type": "code",
   "execution_count": 3,
   "metadata": {
    "ExecuteTime": {
     "end_time": "2021-06-15T13:05:30.296316Z",
     "start_time": "2021-06-15T13:05:30.276813Z"
    }
   },
   "outputs": [
    {
     "name": "stdout",
     "output_type": "stream",
     "text": [
      "You are working on a local system.\n",
      "Files will be searched relative to \"..\".\n"
     ]
    }
   ],
   "source": [
    "import sys, os\n",
    "ON_COLAB = 'google.colab' in sys.modules\n",
    "\n",
    "if ON_COLAB:\n",
    "    GIT_ROOT = 'https://github.com/jsalbr/tdwi-2021-text-mining/raw/master'\n",
    "    os.system(f'wget {GIT_ROOT}/notebooks/setup.py')\n",
    "\n",
    "%run -i setup.py"
   ]
  },
  {
   "cell_type": "markdown",
   "metadata": {},
   "source": [
    "## Load Python Settings<div class=\"tocSkip\"/>\n",
    "\n",
    "Common imports, defaults for formatting in Matplotlib, Pandas etc."
   ]
  },
  {
   "cell_type": "code",
   "execution_count": 4,
   "metadata": {
    "ExecuteTime": {
     "end_time": "2021-06-15T13:05:32.989948Z",
     "start_time": "2021-06-15T13:05:30.909071Z"
    }
   },
   "outputs": [],
   "source": [
    "%run \"$BASE_DIR/notebooks/settings.py\"\n",
    "\n",
    "%reload_ext autoreload\n",
    "%autoreload 2\n",
    "%config InlineBackend.figure_format = 'png'\n",
    "\n",
    "# to print output of all statements and not just the last\n",
    "from IPython.core.interactiveshell import InteractiveShell\n",
    "InteractiveShell.ast_node_interactivity = \"all\"\n",
    "\n",
    "# otherwise text between $ signs will be interpreted as formula and printed in italic\n",
    "pd.set_option('display.html.use_mathjax', False)\n",
    "pd.options.plotting.backend = \"matplotlib\"\n",
    "\n",
    "# path to import blueprints packages\n",
    "sys.path.append('./packages')"
   ]
  },
  {
   "cell_type": "markdown",
   "metadata": {},
   "source": [
    "# Extract Data from Reddit with Pushshift API\n",
    "\n",
    "\n",
    "**Pushshift REST API**  \n",
    "https://github.com/pushshift/api\n",
    "\n",
    "**PRAW: The Python Reddit API Wrapper**  \n",
    "https://praw.readthedocs.io/en/latest/\n",
    "\n",
    "**PSAW: Python Pushshift.io API Wrapper**  \n",
    "https://github.com/dmarx/psaw  \n",
    "https://psaw.readthedocs.io/en/latest/"
   ]
  },
  {
   "cell_type": "markdown",
   "metadata": {},
   "source": [
    "## Filtering Subreddits\n",
    "\n",
    "List of car subreddits, copied from `subreddit_info.csv` from the [Kaggle Reddit Selfpost dataset](https://www.kaggle.com/mswarbrickjones/reddit-selfposts)."
   ]
  },
  {
   "cell_type": "code",
   "execution_count": 27,
   "metadata": {
    "ExecuteTime": {
     "end_time": "2021-06-05T07:45:30.449302Z",
     "start_time": "2021-06-05T07:45:30.263344Z"
    }
   },
   "outputs": [
    {
     "data": {
      "text/plain": [
       "'GolfGTI,Volkswagen,Audi,AskMechanics,MechanicAdvice,mechanics,BMW,E30,Cartalk,askcarsales,autorepair,cars,motorcycles,projectcar,whatcarshouldIbuy,whichbike,volt,FiestaST,FocusST,Ford,FordFocus,Mustang,f150,fordranger,MotoUK,Harley,Honda,civic,Hyundai,CherokeeXJ,GrandCherokee,Jeep,Wrangler,Lexus,Miata,mazda,mazda3,mercedes_benz,MINI,MPSelectMiniOwners,Porsche,saab,SubaruForester,WRX,XVcrosstrek,subaru,teslamotors,4Runner,Toyota,ToyotaTacoma,ft86,prius,Trucks,Volvo'"
      ]
     },
     "execution_count": 27,
     "metadata": {},
     "output_type": "execute_result"
    }
   ],
   "source": [
    "subreddits = \"\"\"\n",
    "GolfGTI\n",
    "Volkswagen\n",
    "Audi\n",
    "AskMechanics\n",
    "MechanicAdvice\n",
    "mechanics\n",
    "BMW\n",
    "E30\n",
    "Cartalk\n",
    "askcarsales\n",
    "autorepair\n",
    "cars\n",
    "motorcycles\n",
    "projectcar\n",
    "whatcarshouldIbuy\n",
    "whichbike\n",
    "volt\n",
    "FiestaST\n",
    "FocusST\n",
    "Ford\n",
    "FordFocus\n",
    "Mustang\n",
    "f150\n",
    "fordranger\n",
    "MotoUK\n",
    "Harley\n",
    "Honda\n",
    "civic\n",
    "Hyundai\n",
    "CherokeeXJ\n",
    "GrandCherokee\n",
    "Jeep\n",
    "Wrangler\n",
    "Lexus\n",
    "Miata\n",
    "mazda\n",
    "mazda3\n",
    "mercedes_benz\n",
    "MINI\n",
    "MPSelectMiniOwners\n",
    "Porsche\n",
    "saab\n",
    "SubaruForester\n",
    "WRX\n",
    "XVcrosstrek\n",
    "subaru\n",
    "teslamotors\n",
    "4Runner\n",
    "Toyota\n",
    "ToyotaTacoma\n",
    "ft86\n",
    "prius\n",
    "Trucks\n",
    "Volvo\n",
    "\"\"\".strip().replace('\\n', ',')\n",
    "\n",
    "subreddits"
   ]
  },
  {
   "cell_type": "markdown",
   "metadata": {},
   "source": [
    "## Using PushshiftAPI for Data Extraction"
   ]
  },
  {
   "cell_type": "code",
   "execution_count": 1,
   "metadata": {
    "ExecuteTime": {
     "end_time": "2021-06-15T13:00:11.260639Z",
     "start_time": "2021-06-15T13:00:11.255180Z"
    }
   },
   "outputs": [
    {
     "name": "stdout",
     "output_type": "stream",
     "text": [
      "18/05/2021 00:00:00 1621288800\n"
     ]
    }
   ],
   "source": [
    "from datetime import datetime\n",
    "\n",
    "def unix_timestamp(date):\n",
    "    \"\"\"Helper function for timestamp conversion\"\"\"\n",
    "    date = datetime.strptime(date, \"%d/%m/%Y %H:%M:%S\")\n",
    "    return int(datetime.timestamp(date))\n",
    "                                  \n",
    "date = '18/05/2021 00:00:00'\n",
    "\n",
    "print(date, unix_timestamp(date))"
   ]
  },
  {
   "cell_type": "markdown",
   "metadata": {
    "ExecuteTime": {
     "end_time": "2021-06-05T07:48:14.149936Z",
     "start_time": "2021-06-05T07:48:14.007667Z"
    }
   },
   "source": [
    "Takes about an hour or two to extract five months of data in this example."
   ]
  },
  {
   "cell_type": "code",
   "execution_count": 14,
   "metadata": {
    "ExecuteTime": {
     "end_time": "2021-06-04T08:53:09.672286Z",
     "start_time": "2021-06-04T08:23:02.104841Z"
    }
   },
   "outputs": [
    {
     "name": "stdout",
     "output_type": "stream",
     "text": [
      "Extracting submissions ...\n"
     ]
    }
   ],
   "source": [
    "from psaw import PushshiftAPI\n",
    "from psaw.PushshiftAPI import log as logger\n",
    "\n",
    "import json\n",
    "import logging\n",
    "import pprint as pp\n",
    "\n",
    "# fields = \"subreddit,id,title,selftext,permalink,link_flair_text,author,created_utc,num_comments,score,is_self\"\n",
    "fields = \"subreddit,id,title,selftext,permalink,link_flair_text,author,created_utc,num_comments,score,is_self\"\n",
    "fields = fields.split(','),\n",
    "\n",
    "params = dict(\n",
    "    subreddit = subreddits,\n",
    "    after  = unix_timestamp(\"01/01/2021 00:00:00\"),\n",
    "    before = unix_timestamp(\"01/06/2021 00:00:00\"),\n",
    "    fields = fields,\n",
    "    is_self = True,\n",
    "    sort = \"asc\",\n",
    "    # limit = 20\n",
    ")\n",
    "\n",
    "logging.basicConfig(level=logging.ERROR)\n",
    "logger.setLevel(logging.ERROR) \n",
    "\n",
    "api = PushshiftAPI()\n",
    "\n",
    "if params.get('limit', 50) < 50:\n",
    "    # if only a few records are loaded, display the output here\n",
    "    pp.pprint([s.d_ for s in api.search_submissions(**params)])\n",
    "else:\n",
    "    # otherwise write the output to a json file\n",
    "    print(\"Extracting submissions ...\")\n",
    "    with open(\"reddit-autos-selfposts.json\", \"w\") as file:\n",
    "        for s in api.search_submissions(**params):\n",
    "            _ = file.write(json.dumps(s.d_)+'\\n')"
   ]
  },
  {
   "cell_type": "markdown",
   "metadata": {},
   "source": [
    "# Convert and Rename Raw Data"
   ]
  },
  {
   "cell_type": "code",
   "execution_count": 8,
   "metadata": {
    "ExecuteTime": {
     "end_time": "2021-06-15T13:06:17.939927Z",
     "start_time": "2021-06-15T13:06:16.453477Z"
    }
   },
   "outputs": [
    {
     "data": {
      "text/plain": [
       "142946"
      ]
     },
     "execution_count": 8,
     "metadata": {},
     "output_type": "execute_result"
    }
   ],
   "source": [
    "df = pd.read_json(f\"{BASE_DIR}/data/reddit-autos-selfposts-full.json\", lines=True)\n",
    "len(df)"
   ]
  },
  {
   "cell_type": "code",
   "execution_count": 9,
   "metadata": {
    "ExecuteTime": {
     "end_time": "2021-06-15T13:06:18.018190Z",
     "start_time": "2021-06-15T13:06:17.992043Z"
    }
   },
   "outputs": [
    {
     "data": {
      "text/plain": [
       "Index(['author', 'created_utc', 'id', 'is_self', 'num_comments', 'permalink',\n",
       "       'score', 'selftext', 'subreddit', 'title', 'created',\n",
       "       'link_flair_text'],\n",
       "      dtype='object')"
      ]
     },
     "execution_count": 9,
     "metadata": {},
     "output_type": "execute_result"
    }
   ],
   "source": [
    "df.columns"
   ]
  },
  {
   "cell_type": "code",
   "execution_count": 10,
   "metadata": {
    "ExecuteTime": {
     "end_time": "2021-06-15T13:06:18.932621Z",
     "start_time": "2021-06-15T13:06:18.894096Z"
    }
   },
   "outputs": [
    {
     "data": {
      "text/html": [
       "<div>\n",
       "<style scoped>\n",
       "    .dataframe tbody tr th:only-of-type {\n",
       "        vertical-align: middle;\n",
       "    }\n",
       "\n",
       "    .dataframe tbody tr th {\n",
       "        vertical-align: top;\n",
       "    }\n",
       "\n",
       "    .dataframe thead th {\n",
       "        text-align: right;\n",
       "    }\n",
       "</style>\n",
       "<table border=\"1\" class=\"dataframe tex2jax_ignore\">\n",
       "  <thead>\n",
       "    <tr style=\"text-align: right;\">\n",
       "      <th></th>\n",
       "      <th>subreddit</th>\n",
       "      <th>title</th>\n",
       "      <th>selftext</th>\n",
       "    </tr>\n",
       "  </thead>\n",
       "  <tbody>\n",
       "    <tr>\n",
       "      <th>61405</th>\n",
       "      <td>Hyundai</td>\n",
       "      <td>2022 Hyundai Kona N performance crossover teased with no camouflage</td>\n",
       "      <td>Here are the newest photos released from Hyundai for the Kona N. \\n\\nIm excited but if there is no AWD option, my interest is greatly reduced.</td>\n",
       "    </tr>\n",
       "    <tr>\n",
       "      <th>44406</th>\n",
       "      <td>AskMechanics</td>\n",
       "      <td>Head gasket vs radiator help</td>\n",
       "      <td>Hi,\\n\\nI have a 2014 Chevy captiva, v6, and 100k miles. A recent (1 year ago) accident caused some front end damage. At the time it was not fixed. Recently it over heated up to 220 degrees after d...</td>\n",
       "    </tr>\n",
       "    <tr>\n",
       "      <th>55416</th>\n",
       "      <td>teslamotors</td>\n",
       "      <td>New to Tesla and have a quick question about the Mobile Charger and Wall Connector for Model 3</td>\n",
       "      <td>[removed]</td>\n",
       "    </tr>\n",
       "  </tbody>\n",
       "</table>\n",
       "</div>"
      ],
      "text/plain": [
       "          subreddit  \\\n",
       "61405       Hyundai   \n",
       "44406  AskMechanics   \n",
       "55416   teslamotors   \n",
       "\n",
       "                                                                                                title  \\\n",
       "61405                             2022 Hyundai Kona N performance crossover teased with no camouflage   \n",
       "44406                                                                    Head gasket vs radiator help   \n",
       "55416  New to Tesla and have a quick question about the Mobile Charger and Wall Connector for Model 3   \n",
       "\n",
       "                                                                                                                                                                                                      selftext  \n",
       "61405                                                           Here are the newest photos released from Hyundai for the Kona N. \\n\\nIm excited but if there is no AWD option, my interest is greatly reduced.  \n",
       "44406  Hi,\\n\\nI have a 2014 Chevy captiva, v6, and 100k miles. A recent (1 year ago) accident caused some front end damage. At the time it was not fixed. Recently it over heated up to 220 degrees after d...  \n",
       "55416                                                                                                                                                                                                [removed]  "
      ]
     },
     "execution_count": 10,
     "metadata": {},
     "output_type": "execute_result"
    }
   ],
   "source": [
    "df[['subreddit', 'title', 'selftext']].sample(3)"
   ]
  },
  {
   "cell_type": "markdown",
   "metadata": {},
   "source": [
    "Only Selfposts with minimum length (automatically excludes `[REMOVED]` posts)."
   ]
  },
  {
   "cell_type": "markdown",
   "metadata": {},
   "source": [
    "## Filter Selfposts and Subreddits"
   ]
  },
  {
   "cell_type": "code",
   "execution_count": 12,
   "metadata": {
    "ExecuteTime": {
     "end_time": "2021-06-15T13:06:59.311699Z",
     "start_time": "2021-06-15T13:06:59.211116Z"
    }
   },
   "outputs": [
    {
     "data": {
      "text/plain": [
       "116743"
      ]
     },
     "execution_count": 12,
     "metadata": {},
     "output_type": "execute_result"
    }
   ],
   "source": [
    "df = df[df['is_self'] & (df['selftext'].str.len() > 20)]\n",
    "len(df)"
   ]
  },
  {
   "cell_type": "code",
   "execution_count": 16,
   "metadata": {
    "ExecuteTime": {
     "end_time": "2021-06-15T13:07:47.701415Z",
     "start_time": "2021-06-15T13:07:47.092951Z"
    }
   },
   "outputs": [
    {
     "data": {
      "image/png": "[encoded data removed]",
      "text/plain": [
       "<Figure size 1000x1000 with 1 Axes>"
      ]
     },
     "metadata": {},
     "output_type": "display_data"
    }
   ],
   "source": [
    "df['subreddit'].value_counts().plot(kind='barh', figsize=(10,10)).invert_yaxis()"
   ]
  },
  {
   "cell_type": "code",
   "execution_count": 17,
   "metadata": {
    "ExecuteTime": {
     "end_time": "2021-06-15T13:08:30.967478Z",
     "start_time": "2021-06-15T13:08:30.876330Z"
    }
   },
   "outputs": [
    {
     "data": {
      "text/plain": [
       "24712"
      ]
     },
     "execution_count": 17,
     "metadata": {},
     "output_type": "execute_result"
    }
   ],
   "source": [
    "subreddits = [\n",
    "    'motorcycles', 'teslamotors', 'BMW', 'AskMechanics', 'Audi', 'Honda', \n",
    "    'Volkswagen', 'Hyundai', 'Harley', 'Toyota', 'Volvo', 'mercedes_benz' \n",
    "]\n",
    "\n",
    "df = df[df['subreddit'].isin(subreddits)].reset_index(drop=True)\n",
    "len(df)"
   ]
  },
  {
   "cell_type": "code",
   "execution_count": 18,
   "metadata": {
    "ExecuteTime": {
     "end_time": "2021-06-15T13:08:35.220160Z",
     "start_time": "2021-06-15T13:08:35.187418Z"
    }
   },
   "outputs": [
    {
     "data": {
      "text/plain": [
       "count                   24712\n",
       "unique                  24671\n",
       "top       2021-04-15 03:19:22\n",
       "freq                        2\n",
       "first     2021-01-01 00:05:03\n",
       "last      2021-05-31 23:51:36\n",
       "Name: created, dtype: object"
      ]
     },
     "execution_count": 18,
     "metadata": {},
     "output_type": "execute_result"
    }
   ],
   "source": [
    "from datetime import datetime\n",
    "\n",
    "df['created'] = df['created_utc'].map(datetime.fromtimestamp)\n",
    "df['created'].describe()"
   ]
  },
  {
   "cell_type": "code",
   "execution_count": 19,
   "metadata": {
    "ExecuteTime": {
     "end_time": "2021-06-15T13:08:40.533178Z",
     "start_time": "2021-06-15T13:08:40.389659Z"
    }
   },
   "outputs": [
    {
     "data": {
      "text/html": [
       "<div>\n",
       "<style scoped>\n",
       "    .dataframe tbody tr th:only-of-type {\n",
       "        vertical-align: middle;\n",
       "    }\n",
       "\n",
       "    .dataframe tbody tr th {\n",
       "        vertical-align: top;\n",
       "    }\n",
       "\n",
       "    .dataframe thead th {\n",
       "        text-align: right;\n",
       "    }\n",
       "</style>\n",
       "<table border=\"1\" class=\"dataframe tex2jax_ignore\">\n",
       "  <thead>\n",
       "    <tr style=\"text-align: right;\">\n",
       "      <th></th>\n",
       "      <th>created</th>\n",
       "      <th>day</th>\n",
       "      <th>week</th>\n",
       "    </tr>\n",
       "  </thead>\n",
       "  <tbody>\n",
       "    <tr>\n",
       "      <th>6012</th>\n",
       "      <td>2021-02-11 04:05:03</td>\n",
       "      <td>2021-02-11</td>\n",
       "      <td>2021/Week 06</td>\n",
       "    </tr>\n",
       "    <tr>\n",
       "      <th>16644</th>\n",
       "      <td>2021-04-25 20:06:47</td>\n",
       "      <td>2021-04-25</td>\n",
       "      <td>2021/Week 16</td>\n",
       "    </tr>\n",
       "    <tr>\n",
       "      <th>8932</th>\n",
       "      <td>2021-03-04 00:54:40</td>\n",
       "      <td>2021-03-04</td>\n",
       "      <td>2021/Week 09</td>\n",
       "    </tr>\n",
       "    <tr>\n",
       "      <th>15439</th>\n",
       "      <td>2021-04-20 11:49:23</td>\n",
       "      <td>2021-04-20</td>\n",
       "      <td>2021/Week 16</td>\n",
       "    </tr>\n",
       "    <tr>\n",
       "      <th>11985</th>\n",
       "      <td>2021-03-31 21:19:25</td>\n",
       "      <td>2021-03-31</td>\n",
       "      <td>2021/Week 13</td>\n",
       "    </tr>\n",
       "    <tr>\n",
       "      <th>17402</th>\n",
       "      <td>2021-04-29 03:09:51</td>\n",
       "      <td>2021-04-29</td>\n",
       "      <td>2021/Week 17</td>\n",
       "    </tr>\n",
       "    <tr>\n",
       "      <th>20898</th>\n",
       "      <td>2021-05-14 15:41:02</td>\n",
       "      <td>2021-05-14</td>\n",
       "      <td>2021/Week 19</td>\n",
       "    </tr>\n",
       "    <tr>\n",
       "      <th>10563</th>\n",
       "      <td>2021-03-15 00:07:19</td>\n",
       "      <td>2021-03-15</td>\n",
       "      <td>2021/Week 11</td>\n",
       "    </tr>\n",
       "    <tr>\n",
       "      <th>22519</th>\n",
       "      <td>2021-05-21 18:30:57</td>\n",
       "      <td>2021-05-21</td>\n",
       "      <td>2021/Week 20</td>\n",
       "    </tr>\n",
       "    <tr>\n",
       "      <th>5855</th>\n",
       "      <td>2021-02-10 08:27:52</td>\n",
       "      <td>2021-02-10</td>\n",
       "      <td>2021/Week 06</td>\n",
       "    </tr>\n",
       "  </tbody>\n",
       "</table>\n",
       "</div>"
      ],
      "text/plain": [
       "                  created         day          week\n",
       "6012  2021-02-11 04:05:03  2021-02-11  2021/Week 06\n",
       "16644 2021-04-25 20:06:47  2021-04-25  2021/Week 16\n",
       "8932  2021-03-04 00:54:40  2021-03-04  2021/Week 09\n",
       "15439 2021-04-20 11:49:23  2021-04-20  2021/Week 16\n",
       "11985 2021-03-31 21:19:25  2021-03-31  2021/Week 13\n",
       "17402 2021-04-29 03:09:51  2021-04-29  2021/Week 17\n",
       "20898 2021-05-14 15:41:02  2021-05-14  2021/Week 19\n",
       "10563 2021-03-15 00:07:19  2021-03-15  2021/Week 11\n",
       "22519 2021-05-21 18:30:57  2021-05-21  2021/Week 20\n",
       "5855  2021-02-10 08:27:52  2021-02-10  2021/Week 06"
      ]
     },
     "execution_count": 19,
     "metadata": {},
     "output_type": "execute_result"
    }
   ],
   "source": [
    "df['day'] = df['created'].dt.date\n",
    "df['week'] = df['created'].dt.strftime(\"%Y/Week %W\")\n",
    "# df['year'] = df['created'].dt.year\n",
    "\n",
    "df[['created', 'day', 'week']].sample(10)"
   ]
  },
  {
   "cell_type": "code",
   "execution_count": 20,
   "metadata": {
    "ExecuteTime": {
     "end_time": "2021-06-15T13:08:49.836458Z",
     "start_time": "2021-06-15T13:08:49.618138Z"
    }
   },
   "outputs": [
    {
     "data": {
      "text/plain": [
       "<AxesSubplot:>"
      ]
     },
     "execution_count": 20,
     "metadata": {},
     "output_type": "execute_result"
    },
    {
     "data": {
      "image/png": "[encoded data removed]",
      "text/plain": [
       "<Figure size 800x400 with 1 Axes>"
      ]
     },
     "metadata": {},
     "output_type": "display_data"
    }
   ],
   "source": [
    "# df['day'].value_counts().sort_index().rolling(window=10, center=True).mean().plot(kind='line')\n",
    "df['day'].value_counts().sort_index().plot(kind='line')"
   ]
  },
  {
   "cell_type": "code",
   "execution_count": 26,
   "metadata": {
    "ExecuteTime": {
     "end_time": "2021-06-15T13:13:14.133342Z",
     "start_time": "2021-06-15T13:13:14.107711Z"
    }
   },
   "outputs": [],
   "source": [
    "df['url'] = 'https://www.reddit.com' + df['permalink']"
   ]
  },
  {
   "cell_type": "markdown",
   "metadata": {},
   "source": [
    "## Rename and Filter Attributes"
   ]
  },
  {
   "cell_type": "code",
   "execution_count": 27,
   "metadata": {
    "ExecuteTime": {
     "end_time": "2021-06-15T13:13:28.713784Z",
     "start_time": "2021-06-15T13:13:28.699266Z"
    }
   },
   "outputs": [],
   "source": [
    "# for c in df.columns:\n",
    "#     print(f\"    '{c}': '{c}',\")"
   ]
  },
  {
   "cell_type": "code",
   "execution_count": 28,
   "metadata": {
    "ExecuteTime": {
     "end_time": "2021-06-15T13:13:30.393320Z",
     "start_time": "2021-06-15T13:13:30.363510Z"
    },
    "scrolled": true
   },
   "outputs": [],
   "source": [
    "column_mapping = {\n",
    "    'subreddit': 'subreddit',\n",
    "    'id': 'id',\n",
    "    'created_utc': None,\n",
    "    'created': 'created',\n",
    "    'author': None,\n",
    "    'title': 'title',\n",
    "    'selftext': 'text',\n",
    "    'num_comments': 'num_comments',\n",
    "    'score': None,\n",
    "    'permalink': None,\n",
    "    'url': 'url',\n",
    "    'is_self': None,\n",
    "    'link_flair_text': None\n",
    "}\n",
    "\n",
    "# define remaining columns\n",
    "columns = [c for c in column_mapping.keys() if column_mapping[c] != None]\n",
    "\n",
    "# select and rename those columns\n",
    "df = df[columns].rename(columns=column_mapping)"
   ]
  },
  {
   "cell_type": "code",
   "execution_count": 29,
   "metadata": {
    "ExecuteTime": {
     "end_time": "2021-06-15T13:13:31.414403Z",
     "start_time": "2021-06-15T13:13:31.381993Z"
    },
    "scrolled": true
   },
   "outputs": [
    {
     "data": {
      "text/html": [
       "<div>\n",
       "<style scoped>\n",
       "    .dataframe tbody tr th:only-of-type {\n",
       "        vertical-align: middle;\n",
       "    }\n",
       "\n",
       "    .dataframe tbody tr th {\n",
       "        vertical-align: top;\n",
       "    }\n",
       "\n",
       "    .dataframe thead th {\n",
       "        text-align: right;\n",
       "    }\n",
       "</style>\n",
       "<table border=\"1\" class=\"dataframe tex2jax_ignore\">\n",
       "  <thead>\n",
       "    <tr style=\"text-align: right;\">\n",
       "      <th></th>\n",
       "      <th>subreddit</th>\n",
       "      <th>id</th>\n",
       "      <th>created</th>\n",
       "      <th>title</th>\n",
       "      <th>text</th>\n",
       "      <th>num_comments</th>\n",
       "      <th>url</th>\n",
       "    </tr>\n",
       "  </thead>\n",
       "  <tbody>\n",
       "    <tr>\n",
       "      <th>0</th>\n",
       "      <td>motorcycles</td>\n",
       "      <td>ko049k</td>\n",
       "      <td>2021-01-01 00:05:03</td>\n",
       "      <td>Help! Plastic melted to exhaust</td>\n",
       "      <td>Title says it all, chrome pipes marred with plastic from a shopping bag that got too close.  I've seen different suggestions on various forums, looking for firsthand experience, what's worked best...</td>\n",
       "      <td>9</td>\n",
       "      <td>https://www.reddit.com/r/motorcycles/comments/ko049k/help_plastic_melted_to_exhaust/</td>\n",
       "    </tr>\n",
       "    <tr>\n",
       "      <th>1</th>\n",
       "      <td>Toyota</td>\n",
       "      <td>ko0c1i</td>\n",
       "      <td>2021-01-01 00:17:53</td>\n",
       "      <td>Can I please get some help searching online for a used car to buy?</td>\n",
       "      <td>I would really appreciate it. I find this quite overwhelming. My price range is $3000-4000. I know it’s not much but I’m recently back from living abroad for the last 5 years so starting over. \\n\\...</td>\n",
       "      <td>2</td>\n",
       "      <td>https://www.reddit.com/r/Toyota/comments/ko0c1i/can_i_please_get_some_help_searching_online_for_a/</td>\n",
       "    </tr>\n",
       "    <tr>\n",
       "      <th>2</th>\n",
       "      <td>Honda</td>\n",
       "      <td>ko0ci9</td>\n",
       "      <td>2021-01-01 00:18:40</td>\n",
       "      <td>Can I please get some help searching online for a used car to buy?</td>\n",
       "      <td>I would really appreciate it. I find this quite overwhelming. My price range is $3000-4000. I know it’s not much but I’m recently back from living abroad for the last 5 years so starting over. \\n\\...</td>\n",
       "      <td>4</td>\n",
       "      <td>https://www.reddit.com/r/Honda/comments/ko0ci9/can_i_please_get_some_help_searching_online_for_a/</td>\n",
       "    </tr>\n",
       "    <tr>\n",
       "      <th>3</th>\n",
       "      <td>Audi</td>\n",
       "      <td>ko0e4y</td>\n",
       "      <td>2021-01-01 00:21:32</td>\n",
       "      <td>2018 A4 Apple CarPlay issue</td>\n",
       "      <td>The apple CarPlay thing on my car works weirdly that it sometimes connect then go off, even with cable connected, and then it says “no device is connected which supports the Audi smartphone interf...</td>\n",
       "      <td>4</td>\n",
       "      <td>https://www.reddit.com/r/Audi/comments/ko0e4y/2018_a4_apple_carplay_issue/</td>\n",
       "    </tr>\n",
       "    <tr>\n",
       "      <th>4</th>\n",
       "      <td>teslamotors</td>\n",
       "      <td>ko0fm7</td>\n",
       "      <td>2021-01-01 00:23:50</td>\n",
       "      <td>What do you need to do to get an eMMC chip replacement?</td>\n",
       "      <td>My household has 2x 2013 Model S, both of which have started having MCU issues in the past half year. We are talking restarting, screen flickering off, visual glitches, no 3G or map downloading, a...</td>\n",
       "      <td>20</td>\n",
       "      <td>https://www.reddit.com/r/teslamotors/comments/ko0fm7/what_do_you_need_to_do_to_get_an_emmc_chip/</td>\n",
       "    </tr>\n",
       "    <tr>\n",
       "      <th>5</th>\n",
       "      <td>teslamotors</td>\n",
       "      <td>ko0hh1</td>\n",
       "      <td>2021-01-01 00:26:57</td>\n",
       "      <td>Can the y fit a few pairs of skis without folding down the 2nd row?</td>\n",
       "      <td>The 5 seater not the 7</td>\n",
       "      <td>17</td>\n",
       "      <td>https://www.reddit.com/r/teslamotors/comments/ko0hh1/can_the_y_fit_a_few_pairs_of_skis_without_folding/</td>\n",
       "    </tr>\n",
       "    <tr>\n",
       "      <th>6</th>\n",
       "      <td>Audi</td>\n",
       "      <td>ko0jvu</td>\n",
       "      <td>2021-01-01 00:31:07</td>\n",
       "      <td>Tips or experiences to share with painting their Audi?</td>\n",
       "      <td>I have a beautiful 2019 A5 Sportsback premium plus. But I bought it in white a color I wasn’t sure I’d love. A year later and I’m thinking for selling the car, and I think the color is a significa...</td>\n",
       "      <td>4</td>\n",
       "      <td>https://www.reddit.com/r/Audi/comments/ko0jvu/tips_or_experiences_to_share_with_painting_their/</td>\n",
       "    </tr>\n",
       "    <tr>\n",
       "      <th>7</th>\n",
       "      <td>Volvo</td>\n",
       "      <td>ko0ktn</td>\n",
       "      <td>2021-01-01 00:32:45</td>\n",
       "      <td>Anyone do a full LED swap on their P3 S60?</td>\n",
       "      <td>I've successfully swapped out my headlights and high beams for LEDs on my 2015.5 S60. I'm also looking to do my turn signals (front and rear), brake lights, reverse lights, and interior lighting. ...</td>\n",
       "      <td>3</td>\n",
       "      <td>https://www.reddit.com/r/Volvo/comments/ko0ktn/anyone_do_a_full_led_swap_on_their_p3_s60/</td>\n",
       "    </tr>\n",
       "    <tr>\n",
       "      <th>8</th>\n",
       "      <td>teslamotors</td>\n",
       "      <td>ko0odc</td>\n",
       "      <td>2021-01-01 00:38:49</td>\n",
       "      <td>Here it is... Everything I've done to get a Tesla Model 3, as a 17-year-old.</td>\n",
       "      <td>**I posted this a month ago but forgot to share it here, it would mean a lot if you guys checked it out, took me a while to edit!!**\\n\\nInstagram: https://www.instagram.com/yousif.mihyar \\n\\nThank...</td>\n",
       "      <td>0</td>\n",
       "      <td>https://www.reddit.com/r/teslamotors/comments/ko0odc/here_it_is_everything_ive_done_to_get_a_tesla/</td>\n",
       "    </tr>\n",
       "    <tr>\n",
       "      <th>9</th>\n",
       "      <td>teslamotors</td>\n",
       "      <td>ko13vz</td>\n",
       "      <td>2021-01-01 01:05:04</td>\n",
       "      <td>Tesla Should Buy Ford</td>\n",
       "      <td>Okay, so I'm not the first one to think of this. Here are a couple recent articles bringing this up.\\n\\n[https://fordauthority.com/2020/12/tesla-open-to-merger-with-traditional-automaker-should-it...</td>\n",
       "      <td>25</td>\n",
       "      <td>https://www.reddit.com/r/teslamotors/comments/ko13vz/tesla_should_buy_ford/</td>\n",
       "    </tr>\n",
       "  </tbody>\n",
       "</table>\n",
       "</div>"
      ],
      "text/plain": [
       "     subreddit      id             created  \\\n",
       "0  motorcycles  ko049k 2021-01-01 00:05:03   \n",
       "1       Toyota  ko0c1i 2021-01-01 00:17:53   \n",
       "2        Honda  ko0ci9 2021-01-01 00:18:40   \n",
       "3         Audi  ko0e4y 2021-01-01 00:21:32   \n",
       "4  teslamotors  ko0fm7 2021-01-01 00:23:50   \n",
       "5  teslamotors  ko0hh1 2021-01-01 00:26:57   \n",
       "6         Audi  ko0jvu 2021-01-01 00:31:07   \n",
       "7        Volvo  ko0ktn 2021-01-01 00:32:45   \n",
       "8  teslamotors  ko0odc 2021-01-01 00:38:49   \n",
       "9  teslamotors  ko13vz 2021-01-01 01:05:04   \n",
       "\n",
       "                                                                          title  \\\n",
       "0                                               Help! Plastic melted to exhaust   \n",
       "1            Can I please get some help searching online for a used car to buy?   \n",
       "2            Can I please get some help searching online for a used car to buy?   \n",
       "3                                                   2018 A4 Apple CarPlay issue   \n",
       "4                       What do you need to do to get an eMMC chip replacement?   \n",
       "5           Can the y fit a few pairs of skis without folding down the 2nd row?   \n",
       "6                        Tips or experiences to share with painting their Audi?   \n",
       "7                                    Anyone do a full LED swap on their P3 S60?   \n",
       "8  Here it is... Everything I've done to get a Tesla Model 3, as a 17-year-old.   \n",
       "9                                                         Tesla Should Buy Ford   \n",
       "\n",
       "                                                                                                                                                                                                      text  \\\n",
       "0  Title says it all, chrome pipes marred with plastic from a shopping bag that got too close.  I've seen different suggestions on various forums, looking for firsthand experience, what's worked best...   \n",
       "1  I would really appreciate it. I find this quite overwhelming. My price range is $3000-4000. I know it’s not much but I’m recently back from living abroad for the last 5 years so starting over. \\n\\...   \n",
       "2  I would really appreciate it. I find this quite overwhelming. My price range is $3000-4000. I know it’s not much but I’m recently back from living abroad for the last 5 years so starting over. \\n\\...   \n",
       "3  The apple CarPlay thing on my car works weirdly that it sometimes connect then go off, even with cable connected, and then it says “no device is connected which supports the Audi smartphone interf...   \n",
       "4  My household has 2x 2013 Model S, both of which have started having MCU issues in the past half year. We are talking restarting, screen flickering off, visual glitches, no 3G or map downloading, a...   \n",
       "5                                                                                                                                                                                   The 5 seater not the 7   \n",
       "6  I have a beautiful 2019 A5 Sportsback premium plus. But I bought it in white a color I wasn’t sure I’d love. A year later and I’m thinking for selling the car, and I think the color is a significa...   \n",
       "7  I've successfully swapped out my headlights and high beams for LEDs on my 2015.5 S60. I'm also looking to do my turn signals (front and rear), brake lights, reverse lights, and interior lighting. ...   \n",
       "8  **I posted this a month ago but forgot to share it here, it would mean a lot if you guys checked it out, took me a while to edit!!**\\n\\nInstagram: https://www.instagram.com/yousif.mihyar \\n\\nThank...   \n",
       "9  Okay, so I'm not the first one to think of this. Here are a couple recent articles bringing this up.\\n\\n[https://fordauthority.com/2020/12/tesla-open-to-merger-with-traditional-automaker-should-it...   \n",
       "\n",
       "   num_comments  \\\n",
       "0             9   \n",
       "1             2   \n",
       "2             4   \n",
       "3             4   \n",
       "4            20   \n",
       "5            17   \n",
       "6             4   \n",
       "7             3   \n",
       "8             0   \n",
       "9            25   \n",
       "\n",
       "                                                                                                       url  \n",
       "0                     https://www.reddit.com/r/motorcycles/comments/ko049k/help_plastic_melted_to_exhaust/  \n",
       "1       https://www.reddit.com/r/Toyota/comments/ko0c1i/can_i_please_get_some_help_searching_online_for_a/  \n",
       "2        https://www.reddit.com/r/Honda/comments/ko0ci9/can_i_please_get_some_help_searching_online_for_a/  \n",
       "3                               https://www.reddit.com/r/Audi/comments/ko0e4y/2018_a4_apple_carplay_issue/  \n",
       "4         https://www.reddit.com/r/teslamotors/comments/ko0fm7/what_do_you_need_to_do_to_get_an_emmc_chip/  \n",
       "5  https://www.reddit.com/r/teslamotors/comments/ko0hh1/can_the_y_fit_a_few_pairs_of_skis_without_folding/  \n",
       "6          https://www.reddit.com/r/Audi/comments/ko0jvu/tips_or_experiences_to_share_with_painting_their/  \n",
       "7                https://www.reddit.com/r/Volvo/comments/ko0ktn/anyone_do_a_full_led_swap_on_their_p3_s60/  \n",
       "8      https://www.reddit.com/r/teslamotors/comments/ko0odc/here_it_is_everything_ive_done_to_get_a_tesla/  \n",
       "9                              https://www.reddit.com/r/teslamotors/comments/ko13vz/tesla_should_buy_ford/  "
      ]
     },
     "execution_count": 29,
     "metadata": {},
     "output_type": "execute_result"
    }
   ],
   "source": [
    "df.head(10)"
   ]
  },
  {
   "cell_type": "markdown",
   "metadata": {},
   "source": [
    "## Save the Data Frame\n"
   ]
  },
  {
   "cell_type": "code",
   "execution_count": 30,
   "metadata": {
    "ExecuteTime": {
     "end_time": "2021-06-15T13:14:00.307958Z",
     "start_time": "2021-06-15T13:14:00.290468Z"
    }
   },
   "outputs": [],
   "source": [
    "# df.to_json(\"reddit-autos-selfposts-raw.json\", orient='records', lines='true')"
   ]
  },
  {
   "cell_type": "code",
   "execution_count": 31,
   "metadata": {
    "ExecuteTime": {
     "end_time": "2021-06-15T13:14:04.706658Z",
     "start_time": "2021-06-15T13:14:03.966791Z"
    }
   },
   "outputs": [],
   "source": [
    "df.to_csv(\"reddit-autos-selfposts-raw.csv\", sep=\";\", decimal=\".\", index=False)"
   ]
  }
 ],
 "metadata": {
  "kernelspec": {
   "display_name": "Python 3",
   "language": "python",
   "name": "python3"
  },
  "language_info": {
   "codemirror_mode": {
    "name": "ipython",
    "version": 3
   },
   "file_extension": ".py",
   "mimetype": "text/x-python",
   "name": "python",
   "nbconvert_exporter": "python",
   "pygments_lexer": "ipython3",
   "version": "3.8.10"
  },
  "toc": {
   "base_numbering": 1,
   "nav_menu": {},
   "number_sections": true,
   "sideBar": true,
   "skip_h1_title": false,
   "title_cell": "Table of Contents",
   "title_sidebar": "Contents",
   "toc_cell": false,
   "toc_position": {
    "height": "calc(100% - 180px)",
    "left": "10px",
    "top": "150px",
    "width": "265.636px"
   },
   "toc_section_display": true,
   "toc_window_display": true
  },
  "varInspector": {
   "cols": {
    "lenName": 16,
    "lenType": 16,
    "lenVar": 40
   },
   "kernels_config": {
    "python": {
     "delete_cmd_postfix": "",
     "delete_cmd_prefix": "del ",
     "library": "var_list.py",
     "varRefreshCmd": "print(var_dic_list())"
    },
    "r": {
     "delete_cmd_postfix": ") ",
     "delete_cmd_prefix": "rm(",
     "library": "var_list.r",
     "varRefreshCmd": "cat(var_dic_list()) "
    }
   },
   "types_to_exclude": [
    "module",
    "function",
    "builtin_function_or_method",
    "instance",
    "_Feature"
   ],
   "window_display": false
  }
 },
 "nbformat": 4,
 "nbformat_minor": 2
}
